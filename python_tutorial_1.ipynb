{
  "nbformat": 4,
  "nbformat_minor": 0,
  "metadata": {
    "colab": {
      "provenance": [],
      "authorship_tag": "ABX9TyMpxCmH+B3Ay2RkIxzkGC31",
      "include_colab_link": true
    },
    "kernelspec": {
      "name": "python3",
      "display_name": "Python 3"
    },
    "language_info": {
      "name": "python"
    }
  },
  "cells": [
    {
      "cell_type": "markdown",
      "metadata": {
        "id": "view-in-github",
        "colab_type": "text"
      },
      "source": [
        "<a href=\"https://colab.research.google.com/github/Saifyaseen20255/Data-mining/blob/main/python_tutorial_1.ipynb\" target=\"_parent\"><img src=\"https://colab.research.google.com/assets/colab-badge.svg\" alt=\"Open In Colab\"/></a>"
      ]
    },
    {
      "cell_type": "code",
      "execution_count": null,
      "metadata": {
        "id": "y5s_e201It8T"
      },
      "outputs": [],
      "source": []
    },
    {
      "cell_type": "markdown",
      "source": [
        "simple viribles\n"
      ],
      "metadata": {
        "id": "aS7PWMeiU1cB"
      }
    },
    {
      "cell_type": "markdown",
      "source": [
        "\n",
        "\n"
      ],
      "metadata": {
        "id": "Dz04TKRSJ9Xi"
      }
    },
    {
      "cell_type": "code",
      "source": [
        "a =10\n",
        "b =5\n",
        "sum=a+b\n",
        "difference=a-b\n",
        "prodact=a*b\n",
        "division=a/b\n",
        "\n",
        "print(\"Sum:\",sum)\n",
        "print(\"difference:\",difference)\n",
        "print(\"prodact:\",prodact)\n",
        "print(\"division:\",division)\n",
        "\n",
        "\n"
      ],
      "metadata": {
        "colab": {
          "base_uri": "https://localhost:8080/"
        },
        "id": "xJh6b-2SVMTl",
        "outputId": "cc5e9ec8-e225-40c0-ea89-1fe3d70721ae"
      },
      "execution_count": 5,
      "outputs": [
        {
          "output_type": "stream",
          "name": "stdout",
          "text": [
            "Sum: 15\n",
            "difference: 5\n",
            "prodact: 50\n",
            "division: 2.0\n"
          ]
        }
      ]
    },
    {
      "cell_type": "code",
      "source": [
        "print(f\"the sum of the two numbers{a},{b}is{sum}\")\n"
      ],
      "metadata": {
        "colab": {
          "base_uri": "https://localhost:8080/"
        },
        "id": "2loYSKOaX9UE",
        "outputId": "cbd8e1f4-816f-456b-e1c3-52ef8987bb1a"
      },
      "execution_count": 8,
      "outputs": [
        {
          "output_type": "stream",
          "name": "stdout",
          "text": [
            "the sum of the two numbers10,5is15\n"
          ]
        }
      ]
    },
    {
      "cell_type": "code",
      "source": [
        "x=13//2\n",
        "print(x)\n",
        "y=13%2\n",
        "print(y)"
      ],
      "metadata": {
        "colab": {
          "base_uri": "https://localhost:8080/"
        },
        "id": "RUycjx9_ZWoy",
        "outputId": "16800887-7399-4fef-a099-6ea2a2bc0eb7"
      },
      "execution_count": 11,
      "outputs": [
        {
          "output_type": "stream",
          "name": "stdout",
          "text": [
            "6\n",
            "1\n"
          ]
        }
      ]
    },
    {
      "cell_type": "code",
      "source": [
        "#Boolean variables and comparisons\n",
        "x=10\n",
        "y=5\n",
        "\n",
        "is_grater=x>y\n",
        "is_equal=x==y\n",
        "is_not_equal=x!=y\n",
        "\n",
        "print(\"is x grater than y:\",is_grater)\n",
        "print(\"is x equal y?:\",is_equal)\n",
        "print(\"is x not equal to y?:\",is_not_equal)\n",
        "\n"
      ],
      "metadata": {
        "id": "jNX8xwT2Z2rr"
      },
      "execution_count": null,
      "outputs": []
    },
    {
      "cell_type": "code",
      "source": [
        "#variable assignment\n",
        "name=\"alaa\"\n",
        "age=55\n",
        "is_professor=True\n",
        "\n",
        "print(\"Name:\",name)\n",
        "print(\"Age:\",age)\n",
        "print(\"Is professor:\",is_professor)"
      ],
      "metadata": {
        "colab": {
          "base_uri": "https://localhost:8080/"
        },
        "id": "5QZTx2F6d6ag",
        "outputId": "b1ae8768-3c6c-4e81-ed4f-15faa4e42061"
      },
      "execution_count": 12,
      "outputs": [
        {
          "output_type": "stream",
          "name": "stdout",
          "text": [
            "Name: alaa\n",
            "Age: 55\n",
            "Is professor: True\n"
          ]
        }
      ]
    },
    {
      "cell_type": "code",
      "source": [
        "#defining and using a function\n",
        "def greet(ALaa):\n",
        "    return f\"Hello,{name}!\"\n",
        "\n",
        "message=greet(\"alaa\")\n",
        "print(message)\n"
      ],
      "metadata": {
        "colab": {
          "base_uri": "https://localhost:8080/"
        },
        "id": "-u8VC_V2VDTP",
        "outputId": "fb5c41f6-2d3c-43c0-d4e9-faf63b1d806e"
      },
      "execution_count": 24,
      "outputs": [
        {
          "output_type": "stream",
          "name": "stdout",
          "text": [
            "Hello,alaa!\n"
          ]
        }
      ]
    },
    {
      "cell_type": "code",
      "source": [
        "def add_numbers(a,b):\n",
        "    return a+b\n",
        "\n",
        "result=add_numbers(a,b)\n",
        "print(\"Result of addition:\",result)"
      ],
      "metadata": {
        "colab": {
          "base_uri": "https://localhost:8080/"
        },
        "id": "Ngoa_GQLipYq",
        "outputId": "ed9b027b-cc97-41c7-de75-5339fb8bb021"
      },
      "execution_count": 26,
      "outputs": [
        {
          "output_type": "stream",
          "name": "stdout",
          "text": [
            "Result of addition: 15\n"
          ]
        }
      ]
    }
  ]
}